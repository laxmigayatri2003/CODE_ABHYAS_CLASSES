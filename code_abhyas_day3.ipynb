{
 "cells": [
  {
   "cell_type": "code",
   "execution_count": 1,
   "id": "fc9d600e",
   "metadata": {},
   "outputs": [
    {
     "name": "stdout",
     "output_type": "stream",
     "text": [
      "enter no of positions 2\n",
      "after left rotate arr is  [3, 4, 5, 1, 2]\n"
     ]
    }
   ],
   "source": [
    " #left rotate array by  k positions\n",
    "arr=[1,2,3,4,5]\n",
    "k=int(input(\"enter no of positions \"))\n",
    "for i in range(k):\n",
    "    ele=arr[0]\n",
    "    arr.remove(arr[0])\n",
    "    arr.append(ele)\n",
    "print(\"after left rotate arr is \",arr)\n",
    "    "
   ]
  },
  {
   "cell_type": "markdown",
   "id": "3bfd86c1",
   "metadata": {},
   "source": [
    "### optimal solution\n",
    "\n",
    "-> left reverse(0,k)\n",
    "\n",
    "->reverse right(k,n)\n",
    "\n",
    "-> reverse total arr(0,n)"
   ]
  },
  {
   "cell_type": "code",
   "execution_count": 2,
   "id": "92696166",
   "metadata": {},
   "outputs": [
    {
     "name": "stdout",
     "output_type": "stream",
     "text": [
      "Enter no of positions should be shifted(k):2\n",
      "[3, 4, 5, 1, 2]\n"
     ]
    }
   ],
   "source": [
    "arr=[1,2,3,4,5]\n",
    "def revarr(arr,st,end):\n",
    "    while(st<=end-1):\n",
    "         temp=arr[st]\n",
    "         arr[st]=arr[end]\n",
    "         arr[end]=temp\n",
    "         st+=1\n",
    "         end-=1\n",
    "    return arr\n",
    "n=len(arr)\n",
    "k=int(input(\"Enter no of positions should be shifted(k):\"))\n",
    "left=revarr(arr,0,k-1)\n",
    "right=revarr(left,k,n-1)\n",
    "total=revarr(right,0,n-1)\n",
    "print(total)\n",
    "    "
   ]
  },
  {
   "cell_type": "markdown",
   "id": "3fd6253b",
   "metadata": {},
   "source": [
    "### Right rotate array by k position\n",
    "\n",
    "- there are 2 solutions\n",
    "\n",
    "->reverse total array\n",
    "\n",
    "->reverse left k elements\n",
    "\n",
    "-> reverse right k elements\n",
    "\n",
    "-----------------------------------------------------------------\n",
    "\n",
    "### other solution\n",
    "\n",
    "-> reverse right k elements\n",
    "\n",
    "-> reverse left k elements\n",
    "\n",
    "-> reverse total array"
   ]
  },
  {
   "cell_type": "code",
   "execution_count": 3,
   "id": "542589b0",
   "metadata": {},
   "outputs": [
    {
     "name": "stdout",
     "output_type": "stream",
     "text": [
      "enter a no of position 2\n",
      "[4, 5, 1, 2, 3]\n"
     ]
    }
   ],
   "source": [
    "arr=[1,2,3,4,5]\n",
    "def reversearr(arr,st,end):\n",
    "    while(st<=end-1):\n",
    "        temp=arr[st]\n",
    "        arr[st]=arr[end]\n",
    "        arr[end]=temp\n",
    "        st=st+1\n",
    "        end=end-1\n",
    "        \n",
    "    return arr\n",
    "n=len(arr)\n",
    "k=int(input(\"enter a no of position \"))\n",
    "total=reversearr(arr,0,n-1)\n",
    "left=reversearr(total,0,k-1)\n",
    "right=reversearr(left,k,n-1)\n",
    "print(right)"
   ]
  },
  {
   "cell_type": "code",
   "execution_count": 4,
   "id": "ad34ceb9",
   "metadata": {},
   "outputs": [
    {
     "name": "stdout",
     "output_type": "stream",
     "text": [
      "Enter no of positions should be shifted(k):2\n",
      "[4, 5, 1, 2, 3]\n"
     ]
    }
   ],
   "source": [
    "arr=[1,2,3,4,5]\n",
    "def revarr(arr,st,end):\n",
    "    while(st<=end-1):\n",
    "         temp=arr[st]\n",
    "         arr[st]=arr[end]\n",
    "         arr[end]=temp\n",
    "         st+=1\n",
    "         end-=1\n",
    "    return arr\n",
    "n=len(arr)\n",
    "k=int(input(\"Enter no of positions should be shifted(k):\"))\n",
    "right=revarr(arr,n-k,n-1)\n",
    "left=revarr(right,0,n-k-1)\n",
    "total=revarr(left,0,n-1)\n",
    "print(total)\n",
    "    "
   ]
  },
  {
   "cell_type": "markdown",
   "id": "784e15ff",
   "metadata": {},
   "source": [
    "### Highest consecutive ones"
   ]
  },
  {
   "cell_type": "code",
   "execution_count": 5,
   "id": "c132b772",
   "metadata": {},
   "outputs": [
    {
     "name": "stdout",
     "output_type": "stream",
     "text": [
      "The highest consecutive 1s in the array is:6\n"
     ]
    }
   ],
   "source": [
    "a=[1,2,1,1,1,3,4,1,1,1,1,1,1,5,6,7]\n",
    "maxcount=0\n",
    "count=0\n",
    "for i in a:\n",
    "    if(i==1):\n",
    "        count+=1\n",
    "    else:\n",
    "        count=0\n",
    "    maxcount=max(maxcount,count)\n",
    "print(f'The highest consecutive 1s in the array is:{maxcount}')\n",
    "        "
   ]
  },
  {
   "cell_type": "markdown",
   "id": "9b233fce",
   "metadata": {},
   "source": [
    "### Linear search"
   ]
  },
  {
   "cell_type": "code",
   "execution_count": 6,
   "id": "36deebb7",
   "metadata": {},
   "outputs": [
    {
     "name": "stdout",
     "output_type": "stream",
     "text": [
      "enter a number to search 8\n",
      "the number 8 is present at index 6\n"
     ]
    }
   ],
   "source": [
    "arr=[1,12,4,2,9,6,8,10,3]\n",
    "ele=int(input(\"enter a number to search \"))\n",
    "for i in range(len(arr)):\n",
    "    if arr[i]==ele:\n",
    "        print(f'the number {ele} is present at index {i}' )\n",
    "        break"
   ]
  },
  {
   "cell_type": "markdown",
   "id": "43bab6e4",
   "metadata": {},
   "source": [
    "### Binary search"
   ]
  },
  {
   "cell_type": "code",
   "execution_count": 8,
   "id": "53ce04f5",
   "metadata": {},
   "outputs": [
    {
     "name": "stdout",
     "output_type": "stream",
     "text": [
      "enter a number to search 5\n",
      "the number 5 is present at index 4\n"
     ]
    }
   ],
   "source": [
    "arr=[1,2,3,4,5,6,7,8]\n",
    "ele=int(input(\"enter a number to search \"))\n",
    "low=0\n",
    "high=len(arr)\n",
    "def binarysearch(arr,low,high,ele):\n",
    "    if high>=low:\n",
    "        mid=(low+high)//2\n",
    "        if arr[mid]==ele:\n",
    "            return f'the number {ele} is present at index {mid}' \n",
    "        elif  ele<arr[mid]:\n",
    "            return binarysearch(arr,low,mid-1,ele)\n",
    "        else:\n",
    "            return binarysearch(arr,mid+1,high,ele)\n",
    "        \n",
    "search=binarysearch(arr,low,high,ele)\n",
    "print(search)"
   ]
  },
  {
   "cell_type": "markdown",
   "id": "12e0add7",
   "metadata": {},
   "source": [
    "### Union of two arrays using pointers"
   ]
  },
  {
   "cell_type": "code",
   "execution_count": 9,
   "id": "138dfd1a",
   "metadata": {},
   "outputs": [
    {
     "name": "stdout",
     "output_type": "stream",
     "text": [
      "4\n",
      "[1, 2, 3, 4, 5, 6]\n"
     ]
    }
   ],
   "source": [
    "arr=[1,2,3,4,5]\n",
    "arr1=[4,6,3]\n",
    "# to remove duplicates in arr\n",
    "i=0\n",
    "j=1\n",
    "for j in range(len(arr)):\n",
    "    if arr[j]==arr[i]:\n",
    "        j+=1\n",
    "    else:\n",
    "        i+=1\n",
    "        arr[i]=arr[j]\n",
    "print(i)\n",
    "for k in arr1:\n",
    "    if k not in arr:\n",
    "        i=i+1\n",
    "        arr.append(k)\n",
    "print(arr[:i+1])"
   ]
  },
  {
   "cell_type": "code",
   "execution_count": null,
   "id": "b8f7621b",
   "metadata": {},
   "outputs": [],
   "source": []
  },
  {
   "cell_type": "code",
   "execution_count": null,
   "id": "656634e5",
   "metadata": {},
   "outputs": [],
   "source": []
  }
 ],
 "metadata": {
  "kernelspec": {
   "display_name": "Python 3 (ipykernel)",
   "language": "python",
   "name": "python3"
  },
  "language_info": {
   "codemirror_mode": {
    "name": "ipython",
    "version": 3
   },
   "file_extension": ".py",
   "mimetype": "text/x-python",
   "name": "python",
   "nbconvert_exporter": "python",
   "pygments_lexer": "ipython3",
   "version": "3.11.4"
  }
 },
 "nbformat": 4,
 "nbformat_minor": 5
}
