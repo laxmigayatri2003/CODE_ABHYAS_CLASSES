{
 "cells": [
  {
   "cell_type": "markdown",
   "id": "ecc8a4bb",
   "metadata": {},
   "source": [
    "## Arrays"
   ]
  },
  {
   "cell_type": "code",
   "execution_count": 1,
   "id": "22ba8580",
   "metadata": {},
   "outputs": [
    {
     "name": "stdout",
     "output_type": "stream",
     "text": [
      "The second largest element is: 5\n"
     ]
    }
   ],
   "source": [
    "#finding second largest element\n",
    "\n",
    "arr=[1,5,3,4,8]\n",
    "#arr.sort()\n",
    "arr.sort(reverse=True)\n",
    "print(\"The second largest element is:\",arr[1])\n"
   ]
  },
  {
   "cell_type": "code",
   "execution_count": 2,
   "id": "3634fe85",
   "metadata": {},
   "outputs": [
    {
     "name": "stdout",
     "output_type": "stream",
     "text": [
      "The second largest element for duplicate values present is: 8\n"
     ]
    }
   ],
   "source": [
    "#for duplicate values it's not valid\n",
    "\n",
    "arr=[1,5,3,4,8,3,4,5,6,8]\n",
    "arr.sort()\n",
    "print(\"The second largest element for duplicate values present is:\",arr[-2])"
   ]
  },
  {
   "cell_type": "code",
   "execution_count": 5,
   "id": "39d6f9a1",
   "metadata": {},
   "outputs": [
    {
     "name": "stdout",
     "output_type": "stream",
     "text": [
      "9 -3\n",
      "The second max element is 8\n",
      "The second min element is -2\n"
     ]
    }
   ],
   "source": [
    "# optimum solution for finding second largest and smallest element\n",
    "\n",
    "arr=[1,5,-3,4,-2,-1,8,6,9]\n",
    "maxele=arr[0]\n",
    "minele=arr[0]\n",
    "for i in arr:\n",
    "    if(i>maxele):\n",
    "        maxele=i\n",
    "    elif(i<minele):\n",
    "        minele=i\n",
    "print(maxele,minele)\n",
    "secmaxele=arr[0]\n",
    "secminele=arr[0]\n",
    "for i in arr:\n",
    "    if(i>secmaxele and i!=maxele):\n",
    "        secmaxele=i\n",
    "    elif(i<secminele and i!=minele):\n",
    "        secminele=i\n",
    "print(f\"The second max element is {secmaxele}\")\n",
    "print(f\"The second min element is {secminele}\")"
   ]
  },
  {
   "cell_type": "markdown",
   "id": "f16921b3",
   "metadata": {},
   "source": [
    "## Removing duplicates from an array"
   ]
  },
  {
   "cell_type": "code",
   "execution_count": 7,
   "id": "13c9cea4",
   "metadata": {},
   "outputs": [
    {
     "name": "stdout",
     "output_type": "stream",
     "text": [
      "{1, 2, 3, 4}\n"
     ]
    }
   ],
   "source": [
    "arr=[1,2,3,2,3,4,2]\n",
    "print(set(arr))"
   ]
  },
  {
   "cell_type": "code",
   "execution_count": 8,
   "id": "e68d2179",
   "metadata": {},
   "outputs": [
    {
     "name": "stdout",
     "output_type": "stream",
     "text": [
      "unique values are  [1, 2, 4, 6, 8]\n"
     ]
    }
   ],
   "source": [
    "# optimal solution using 2 pointers\n",
    "arr=[1,1,1,2,2,4,4,6,8]\n",
    "i=0\n",
    "j=1\n",
    "while(j<len(arr)):\n",
    "    if (arr[i]==arr[j]):\n",
    "        j=j+1\n",
    "    else:\n",
    "        i=i+1\n",
    "        arr[i]=arr[j]\n",
    "print(\"unique values are \",arr[:i+1])"
   ]
  },
  {
   "cell_type": "code",
   "execution_count": 11,
   "id": "4596ea81",
   "metadata": {},
   "outputs": [
    {
     "name": "stdout",
     "output_type": "stream",
     "text": [
      "[2, 3, 4, 5, 6, 1]\n"
     ]
    }
   ],
   "source": [
    "# Left rotate array by one position\n",
    "\n",
    "arr=[1,2,3,4,5,6]\n",
    "arr1=[]\n",
    "for i in range(1,len(arr)):\n",
    "    arr1.append(arr[i]) \n",
    "arr1.append(arr[0])\n",
    "print(arr1)"
   ]
  },
  {
   "cell_type": "code",
   "execution_count": 12,
   "id": "9d152583",
   "metadata": {},
   "outputs": [
    {
     "name": "stdout",
     "output_type": "stream",
     "text": [
      "[2, 2, 3, 4, 5]\n",
      "[2, 3, 3, 4, 5]\n",
      "[2, 3, 4, 4, 5]\n",
      "[2, 3, 4, 5, 5]\n",
      "array after left rotate is  [2, 3, 4, 5, 1]\n"
     ]
    }
   ],
   "source": [
    "# solution2 : by using temp variable store arr[0]\n",
    "arr=[1,2,3,4,5]\n",
    "temp=arr[0]\n",
    "for i in range(0,len(arr)-1):\n",
    "    arr[i]=arr[i+1]\n",
    "    print(arr)\n",
    "arr[-1]=temp\n",
    "print(\"array after left rotate is \",arr)"
   ]
  },
  {
   "cell_type": "code",
   "execution_count": 14,
   "id": "32eb2daf",
   "metadata": {},
   "outputs": [
    {
     "name": "stdout",
     "output_type": "stream",
     "text": [
      "[6, 1, 2, 3, 4, 5]\n"
     ]
    }
   ],
   "source": [
    "#left rotate array by one position\n",
    "arr=[1,2,3,4,5,6]\n",
    "temp=arr[-1]\n",
    "for i in range(len(arr)-1,-1,-1):\n",
    "    arr[i]=arr[i-1]\n",
    "    if(i==0):\n",
    "        arr[i]=temp\n",
    "print(arr)"
   ]
  },
  {
   "cell_type": "code",
   "execution_count": null,
   "id": "1f5f338d",
   "metadata": {},
   "outputs": [],
   "source": []
  }
 ],
 "metadata": {
  "kernelspec": {
   "display_name": "Python 3 (ipykernel)",
   "language": "python",
   "name": "python3"
  },
  "language_info": {
   "codemirror_mode": {
    "name": "ipython",
    "version": 3
   },
   "file_extension": ".py",
   "mimetype": "text/x-python",
   "name": "python",
   "nbconvert_exporter": "python",
   "pygments_lexer": "ipython3",
   "version": "3.11.4"
  }
 },
 "nbformat": 4,
 "nbformat_minor": 5
}
