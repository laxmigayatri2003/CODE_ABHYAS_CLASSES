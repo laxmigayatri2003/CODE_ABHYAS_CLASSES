{
 "cells": [
  {
   "cell_type": "code",
   "execution_count": 3,
   "id": "c8031e54",
   "metadata": {},
   "outputs": [
    {
     "name": "stdout",
     "output_type": "stream",
     "text": [
      "enter starting year1\n",
      "enter ending year100\n",
      "No of leap years between 1 and 100 are:24\n"
     ]
    }
   ],
   "source": [
    "#no of leap years count between 2 years\n",
    "a=int(input(\"enter starting year\"))\n",
    "b=int(input(\"enter ending year\"))\n",
    "u=(a//4)-(a//100)+(a//400)\n",
    "v=(b//4)-(b//100)+(b//400)\n",
    "count=v-u\n",
    "print(f\"No of leap years between {a} and {b} are:{count}\")"
   ]
  },
  {
   "cell_type": "code",
   "execution_count": 10,
   "id": "fb17be0c",
   "metadata": {},
   "outputs": [
    {
     "name": "stdout",
     "output_type": "stream",
     "text": [
      "The missing element is 4\n",
      "Repeating element is: 7\n",
      "The missing element is 8\n"
     ]
    }
   ],
   "source": [
    "#finding repeating and missing number in an array\n",
    "arr=[1,2,3,5,6,7,7]\n",
    "for i in range(len(arr)-1):\n",
    "    if arr[i]==arr[i+1]:\n",
    "        print(\"Repeating element is:\",arr[i])\n",
    "    if(arr[i]!=arr[i+1]-1):\n",
    "        print(\"The missing element is\",arr[i]+1)"
   ]
  },
  {
   "cell_type": "code",
   "execution_count": 8,
   "id": "47b4d32d",
   "metadata": {},
   "outputs": [
    {
     "name": "stdout",
     "output_type": "stream",
     "text": [
      "30 28\n",
      "152 140\n",
      "The missing element is 2 and the repeated element is 4\n"
     ]
    }
   ],
   "source": [
    "#method 2\n",
    "\n",
    "arr=[1,3,4,4,5,6,7]\n",
    "n=len(arr)\n",
    "sum1=((n*(n+1))//2)\n",
    "sum2=((n*(n+1)*(2*n+1))//6)\n",
    "s1=0\n",
    "s2=0\n",
    "for i in arr:\n",
    "    s1=s1+i\n",
    "    s2=s2+(i**2)\n",
    "    \n",
    "print(s1,sum1)\n",
    "print(s2,sum2)\n",
    "\n",
    "# x=missing\n",
    "# y=repeated\n",
    "\n",
    "xy=sum1-s1\n",
    "x2y2=sum2-s2\n",
    "\n",
    "xyplus=x2y2//xy\n",
    "missing=(xy+xyplus)//2\n",
    "repeated=missing-xy\n",
    "print(f'The missing element is {missing} and the repeated element is {repeated}')"
   ]
  },
  {
   "cell_type": "code",
   "execution_count": 15,
   "id": "c1025863",
   "metadata": {},
   "outputs": [
    {
     "name": "stdout",
     "output_type": "stream",
     "text": [
      "[2, 3, 4, 5] ------- [6, 7, 8, 9]\n"
     ]
    }
   ],
   "source": [
    "#sort the two sorted arrays\n",
    "arr1=[2,3,4,9]\n",
    "arr2=[5,6,7,8]\n",
    "i=len(arr1)-1\n",
    "j=0\n",
    "for j in range(len(arr2)):\n",
    "    if (arr1[i]>arr2[j]):\n",
    "        temp=arr1[i]\n",
    "        arr1[i]=arr2[j]\n",
    "        arr2[j]=temp\n",
    "    i=i-1\n",
    "arr1.sort()\n",
    "arr2.sort()\n",
    "print(arr1,\"-------\",arr2)"
   ]
  },
  {
   "cell_type": "code",
   "execution_count": 17,
   "id": "eb0e7c7e",
   "metadata": {},
   "outputs": [
    {
     "name": "stdout",
     "output_type": "stream",
     "text": [
      "{'a': 5, 'b': 2, 'c': 2}\n",
      "a5b2c2\n"
     ]
    }
   ],
   "source": [
    "#string comprehension\n",
    "arr=[\"a\",\"a\",\"a\",\"a\",\"a\",\"b\",\"b\",\"c\",\"c\"]\n",
    "hash={}\n",
    "for i in arr:\n",
    "    if i not in hash:\n",
    "        hash[i]=1\n",
    "    else:\n",
    "        hash[i]+=1\n",
    "print(hash)\n",
    "\n",
    "s=\"\"\n",
    "for i in hash:\n",
    "    if hash[i]!=1:\n",
    "        s=s+i+str(hash[i])\n",
    "    else:\n",
    "        s=s+i\n",
    "print(s)"
   ]
  },
  {
   "cell_type": "code",
   "execution_count": 4,
   "id": "354d8f7e",
   "metadata": {},
   "outputs": [
    {
     "name": "stdout",
     "output_type": "stream",
     "text": [
      "a5b2c2d\n"
     ]
    }
   ],
   "source": [
    "arr=[\"a\",\"a\",\"a\",\"a\",\"a\",\"b\",\"b\",\"c\",\"c\",\"d\"]\n",
    "s=\"\"\n",
    "for i in arr:\n",
    "    if i not in s:\n",
    "        if arr.count(i)!=1:\n",
    "            s=s+i+str(arr.count(i))\n",
    "        else:\n",
    "            s=s+i\n",
    "print(s)"
   ]
  },
  {
   "cell_type": "code",
   "execution_count": null,
   "id": "17f2530e",
   "metadata": {},
   "outputs": [],
   "source": []
  }
 ],
 "metadata": {
  "kernelspec": {
   "display_name": "Python 3 (ipykernel)",
   "language": "python",
   "name": "python3"
  },
  "language_info": {
   "codemirror_mode": {
    "name": "ipython",
    "version": 3
   },
   "file_extension": ".py",
   "mimetype": "text/x-python",
   "name": "python",
   "nbconvert_exporter": "python",
   "pygments_lexer": "ipython3",
   "version": "3.11.4"
  }
 },
 "nbformat": 4,
 "nbformat_minor": 5
}
