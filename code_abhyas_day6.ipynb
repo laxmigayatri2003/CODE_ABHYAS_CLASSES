{
 "cells": [
  {
   "cell_type": "code",
   "execution_count": 1,
   "id": "4d0d09a6",
   "metadata": {},
   "outputs": [
    {
     "name": "stdout",
     "output_type": "stream",
     "text": [
      "[0, 1, 2, 2, 2, 3]\n",
      "2\n"
     ]
    }
   ],
   "source": [
    "# majority element in nlogn complicity\n",
    "\n",
    "arr=[1,2,3,2,2,0]\n",
    "arr.sort()\n",
    "n=len(arr)//2\n",
    "count=1\n",
    "maxcount=0\n",
    "print(arr)\n",
    "for i in range(len(arr)-1):\n",
    "    if arr[i]==arr[i+1]:\n",
    "        count=count+1\n",
    "        \n",
    "        \n",
    "    else:\n",
    "        count=1\n",
    "    maxcount=max(count,maxcount)\n",
    "    \n",
    "if maxcount>=n:\n",
    "    for i in arr:\n",
    "        if arr.count(i)==maxcount:\n",
    "            maxele=i\n",
    "print(maxele)"
   ]
  },
  {
   "cell_type": "code",
   "execution_count": 2,
   "id": "c0ef8495",
   "metadata": {},
   "outputs": [
    {
     "name": "stdout",
     "output_type": "stream",
     "text": [
      "2\n"
     ]
    }
   ],
   "source": [
    "arr=[1,2,3,4,2,2,2,5]\n",
    "c={}\n",
    "for i in arr:\n",
    "    if(i not in c):\n",
    "        c[i]=1\n",
    "    else:\n",
    "        c[i]+=1\n",
    "        \n",
    "for i in c:\n",
    "    if (c[i]==max(c.values())):\n",
    "        maxele=i\n",
    "print(maxele)\n",
    "    "
   ]
  },
  {
   "cell_type": "code",
   "execution_count": 3,
   "id": "f127dc89",
   "metadata": {},
   "outputs": [
    {
     "name": "stdout",
     "output_type": "stream",
     "text": [
      "1 8\n",
      "2 7\n",
      "3 6\n",
      "4 5\n"
     ]
    }
   ],
   "source": [
    "# for loop\n",
    "\n",
    "arr=[1,2,3,4,8]\n",
    "for i in range(len(arr)-1):\n",
    "    sum=9\n",
    "    sum=sum-arr[i]\n",
    "    print(arr[i],sum)\n",
    "    if sum in range(arr[i+1],len(arr)):\n",
    "        print(arr[i],sum)"
   ]
  },
  {
   "cell_type": "code",
   "execution_count": 4,
   "id": "2b847b9d",
   "metadata": {},
   "outputs": [
    {
     "name": "stdout",
     "output_type": "stream",
     "text": [
      "[0, 0, 0, 1, 2, 2]\n"
     ]
    }
   ],
   "source": [
    "# by using sorting\n",
    "arr=[0,2,1,0,0,2]\n",
    "arr.sort()\n",
    "print(arr)"
   ]
  },
  {
   "cell_type": "code",
   "execution_count": 5,
   "id": "92f774b2",
   "metadata": {},
   "outputs": [
    {
     "name": "stdout",
     "output_type": "stream",
     "text": [
      "3 3 2\n",
      "[0, 0, 0, 1, 1, 1, 2, 2]\n"
     ]
    }
   ],
   "source": [
    "# by using counts\n",
    "\n",
    "arr=[0,2,1,1,1,0,0,2]\n",
    "count0=0\n",
    "count1=0\n",
    "count2=0\n",
    "for i in arr:\n",
    "    if(i==0):\n",
    "        count0+=1\n",
    "    elif i==1:\n",
    "        count1+=1\n",
    "    elif i==2:\n",
    "        count2+=1\n",
    "print(count0,count1,count2)\n",
    "\n",
    "#printing array\n",
    "for i in range(0,count0):\n",
    "    arr[i]=0\n",
    "for i in range(count0,count0+count1):\n",
    "    arr[i]=1\n",
    "for i in range(count0+count1,len(arr)):\n",
    "    arr[i]=2\n",
    "print(arr)\n",
    "        "
   ]
  },
  {
   "cell_type": "code",
   "execution_count": null,
   "id": "b8150808",
   "metadata": {},
   "outputs": [
    {
     "name": "stdout",
     "output_type": "stream",
     "text": [
      "0 6 0\n",
      "-------> [0, 2, 1, 1, 2, 0, 1]\n",
      "-----------> [0, 1, 1, 1, 2, 0, 2]\n"
     ]
    }
   ],
   "source": [
    "# using 2 pointers\n",
    "arr=[0,2,1,1,2,0,1]\n",
    "i=0\n",
    "k=0\n",
    "j=len(arr)-1\n",
    "print(i,j,k)\n",
    "while i<j-1:\n",
    "    if arr[k]==0:\n",
    "        temp=arr[i]\n",
    "        arr[i]=arr[k]\n",
    "        arr[k]=temp\n",
    "        i=i+1\n",
    "        k+=1\n",
    "        \n",
    "        print(\"------->\" ,arr)\n",
    "        \n",
    "    if arr[k]==2:\n",
    "        temp=arr[j]\n",
    "        arr[j]=arr[k]\n",
    "        arr[k]=temp\n",
    "        j=j-1\n",
    "        k+=1\n",
    "        print(\"----------->\",arr)\n",
    "print(arr)   "
   ]
  },
  {
   "cell_type": "code",
   "execution_count": null,
   "id": "f3a2eb1f",
   "metadata": {},
   "outputs": [],
   "source": [
    "# maximum subarray sum in an array\n",
    "arr=[-2,1,-3,4,-1,2,1,-5,4]\n",
    "maxsum=sum=0\n",
    "for i in arr:\n",
    "    sum=sum+i\n",
    "    if(sum<0):\n",
    "        sum=0\n",
    "    else:\n",
    "        if(sum>maxsum):\n",
    "            maxsum=sum\n",
    "print(maxsum)"
   ]
  },
  {
   "cell_type": "code",
   "execution_count": null,
   "id": "1774d1a8",
   "metadata": {},
   "outputs": [],
   "source": [
    "# maximum subarray sum elements in an array\n",
    "\n",
    "arr=[-2,1,-3,4,-1,2,1,-5,4]\n",
    "maxsum=sum=0\n",
    "for i in arr:\n",
    "    sum+=i\n",
    "    if(sum<0):\n",
    "        sum=0\n",
    "        st=i+1\n",
    "    else:\n",
    "        if(sum>maxsum):\n",
    "            sum+=i\n",
    "            maxsum=sum\n",
    "            end=i+1\n",
    "            current_st=start\n",
    "print(maxsum)\n",
    "print(arr[current_st:end])\n",
    "        "
   ]
  },
  {
   "cell_type": "code",
   "execution_count": null,
   "id": "f3a70908",
   "metadata": {},
   "outputs": [],
   "source": []
  },
  {
   "cell_type": "code",
   "execution_count": null,
   "id": "ceb7f83c",
   "metadata": {},
   "outputs": [],
   "source": []
  }
 ],
 "metadata": {
  "kernelspec": {
   "display_name": "Python 3 (ipykernel)",
   "language": "python",
   "name": "python3"
  },
  "language_info": {
   "codemirror_mode": {
    "name": "ipython",
    "version": 3
   },
   "file_extension": ".py",
   "mimetype": "text/x-python",
   "name": "python",
   "nbconvert_exporter": "python",
   "pygments_lexer": "ipython3",
   "version": "3.11.4"
  }
 },
 "nbformat": 4,
 "nbformat_minor": 5
}
