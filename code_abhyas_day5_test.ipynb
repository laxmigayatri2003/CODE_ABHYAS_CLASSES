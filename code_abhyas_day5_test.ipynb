{
 "cells": [
  {
   "cell_type": "code",
   "execution_count": 5,
   "id": "ee0a35b8",
   "metadata": {},
   "outputs": [
    {
     "name": "stdout",
     "output_type": "stream",
     "text": [
      "missing element in the array is: 16\n"
     ]
    }
   ],
   "source": [
    "# finding missing values  in an array\n",
    "arr=[1,4,9,25]\n",
    "n=len(arr)+1\n",
    "sum=((n*(n+1)*((2*n)+1))/6)\n",
    "for i in arr:\n",
    "    sum-=i\n",
    "print(\"missing element in the array is:\",int(sum))"
   ]
  },
  {
   "cell_type": "code",
   "execution_count": 27,
   "id": "657f0d4b",
   "metadata": {},
   "outputs": [
    {
     "name": "stdout",
     "output_type": "stream",
     "text": [
      "6\n",
      "0.25\n",
      "The decimal value for the given binary num is: 6.25\n"
     ]
    }
   ],
   "source": [
    "# binary to deicmal with floating point\n",
    "import math\n",
    "\n",
    "num=110.01\n",
    "a=str(num)\n",
    "dp=a.index(\".\")\n",
    "dsum=0\n",
    "wei=0\n",
    "for i in range(dp-1,-1,-1):\n",
    "    dsum+=((int(a[i])*(2**wei)))\n",
    "    wei+=1\n",
    "print(dsum)\n",
    "fsum=0\n",
    "fwei=-1\n",
    "for i in range(dp+1,len(a)):\n",
    "    fsum=((int(a[i])*(2**fwei)))\n",
    "    fwei-=1\n",
    "print(fsum)\n",
    "dnum=float(dsum)+float(fsum)\n",
    "print(\"The decimal value for the given binary num is:\",dnum)"
   ]
  },
  {
   "cell_type": "code",
   "execution_count": 1,
   "id": "c645cd3e",
   "metadata": {},
   "outputs": [
    {
     "name": "stdout",
     "output_type": "stream",
     "text": [
      "[1, 2, 3, 4] [3, 4]\n",
      "[1, 2, 3, 4, 3, 4]\n",
      "the inter section elements are  [3, 4]\n"
     ]
    }
   ],
   "source": [
    "# finding intersection of two arrays \n",
    "def uniquev(arr):\n",
    "    i=0\n",
    "    j=0\n",
    "    for j in range(len(arr)-1):\n",
    "        if arr[j]==arr[j+1]:\n",
    "            j=j+1\n",
    "        else:\n",
    "            i=i+1\n",
    "            arr[i]=arr[j+1]\n",
    "    return arr[0:i+1]\n",
    "\n",
    "arr1=[1,2,2,3,3,4]\n",
    "arr2=[3,4,4]\n",
    "arrtwo=uniquev(arr2)\n",
    "\n",
    "arrone=uniquev(arr1)\n",
    "print(arrone,arrtwo)\n",
    "for k in range(len(arrtwo)):\n",
    "    arrone.append(arrtwo[k])\n",
    "    \n",
    "print(arrone)\n",
    "inter=[]\n",
    "for i in arrone:\n",
    "    if arrone.count(i)==2:\n",
    "        inter.append(i)\n",
    "print(\"the inter section elements are \",list(set(inter)))\n",
    "    "
   ]
  },
  {
   "cell_type": "code",
   "execution_count": null,
   "id": "bc2ec12c",
   "metadata": {},
   "outputs": [],
   "source": []
  }
 ],
 "metadata": {
  "kernelspec": {
   "display_name": "Python 3 (ipykernel)",
   "language": "python",
   "name": "python3"
  },
  "language_info": {
   "codemirror_mode": {
    "name": "ipython",
    "version": 3
   },
   "file_extension": ".py",
   "mimetype": "text/x-python",
   "name": "python",
   "nbconvert_exporter": "python",
   "pygments_lexer": "ipython3",
   "version": "3.11.4"
  }
 },
 "nbformat": 4,
 "nbformat_minor": 5
}
