{
 "cells": [
  {
   "cell_type": "markdown",
   "id": "d59c737f",
   "metadata": {},
   "source": [
    "### Finding missing values in array\n",
    "\n",
    "-> naive approches\n",
    "\n",
    "-> xor -> o(n)\n",
    "\n",
    "-> sorting -> nlogn\n",
    "\n",
    "-> formula -> o(n),s->o(1)"
   ]
  },
  {
   "cell_type": "code",
   "execution_count": 3,
   "id": "ac26dfc4",
   "metadata": {},
   "outputs": [
    {
     "name": "stdout",
     "output_type": "stream",
     "text": [
      "The missing element in array is: 3\n"
     ]
    }
   ],
   "source": [
    "# Naive approach\n",
    "\n",
    "arr=[1,2,4,5,6]\n",
    "for i in range(1,len(arr)+1):\n",
    "    if(i not in arr):\n",
    "        print(\"The missing element in array is:\",i)"
   ]
  },
  {
   "cell_type": "code",
   "execution_count": 8,
   "id": "b344973b",
   "metadata": {},
   "outputs": [
    {
     "name": "stdout",
     "output_type": "stream",
     "text": [
      "21\n",
      "The missing element is (using formula): 3\n"
     ]
    }
   ],
   "source": [
    "# Using formula\n",
    "\n",
    "arr=[1,2,4,5,6]\n",
    "n=len(arr)+1\n",
    "sum=int((n*(n+1))/2)\n",
    "print(sum)\n",
    "for i in arr:\n",
    "    sum=sum-i\n",
    "print(\"The missing element is (using formula):\",sum)"
   ]
  },
  {
   "cell_type": "code",
   "execution_count": 19,
   "id": "6e4b47e2",
   "metadata": {},
   "outputs": [
    {
     "name": "stdout",
     "output_type": "stream",
     "text": [
      "[1, 2, 4, 5, 7]\n",
      "The missing element is: 3\n",
      "The missing element is: 6\n"
     ]
    }
   ],
   "source": [
    "# Using sorting\n",
    "\n",
    "arr=[1,4,5,2,7]\n",
    "for i in range (len(arr)):\n",
    "    for j in range(len(arr)):\n",
    "        if(arr[i]<arr[j]):\n",
    "            temp=arr[i]\n",
    "            arr[i]=arr[j]\n",
    "            arr[j]=temp\n",
    "print(arr)\n",
    "for i in range(len(arr)-1):\n",
    "    if(arr[i]+1 != arr[i+1]):\n",
    "        print(\"The missing element is:\",arr[i]+1)"
   ]
  },
  {
   "cell_type": "code",
   "execution_count": 21,
   "id": "8e343063",
   "metadata": {},
   "outputs": [
    {
     "name": "stdout",
     "output_type": "stream",
     "text": [
      "missing element  4\n"
     ]
    }
   ],
   "source": [
    "# Using XOR operation\n",
    "\n",
    "# using xor operator\n",
    "arr=[1,2,5,3]\n",
    "xor=0\n",
    "for i in range(1,len(arr)+2):\n",
    "    xor=xor^i\n",
    "for j in arr:\n",
    "    xor=xor^j\n",
    "print(\"missing element \",xor)"
   ]
  },
  {
   "cell_type": "markdown",
   "id": "c31a7a39",
   "metadata": {},
   "source": [
    "### Finding the number that appears once\n",
    "\n",
    " -> The condition is all elements appear max 2 times\n",
    "\n",
    " - Solutions\n",
    "       -> hashing\n",
    "\n",
    "       -> sorting \n",
    "\n",
    "       -> xor"
   ]
  },
  {
   "cell_type": "code",
   "execution_count": 26,
   "id": "80d959aa",
   "metadata": {},
   "outputs": [
    {
     "name": "stdout",
     "output_type": "stream",
     "text": [
      "[1, 1, 2, 2, 3, 3, 4]\n",
      "4\n",
      "4\n",
      "4\n"
     ]
    }
   ],
   "source": [
    "arr=[1,2,3,3,1,2,4]\n",
    "# sorting\n",
    "for i in range(len(arr)):\n",
    "    for j in range(len(arr)):\n",
    "        if arr[i]<arr[j]:\n",
    "            temp=arr[i]\n",
    "            arr[i]=arr[j]\n",
    "            arr[j]=temp\n",
    "print(arr)\n",
    "for i in range(0,len(arr)+1,2):\n",
    "    if(i<n-1):\n",
    "        if arr[i+1]-arr[i]>0:\n",
    "            print(arr[i])\n",
    "        else:\n",
    "            print(arr[-1])"
   ]
  },
  {
   "cell_type": "code",
   "execution_count": 29,
   "id": "b23bbab3",
   "metadata": {},
   "outputs": [
    {
     "name": "stdout",
     "output_type": "stream",
     "text": [
      "The number appear once in an array is: 3\n"
     ]
    }
   ],
   "source": [
    "# Using Hashing\n",
    "\n",
    "arr=[1,2,3,4,1,2,4]\n",
    "c={}\n",
    "for i in arr:\n",
    "    if(i not in c):\n",
    "        c[i]=1\n",
    "    else:\n",
    "        c[i]+=1\n",
    "for i in c:\n",
    "    if(c[i]==1):\n",
    "        print(\"The number appear once in an array is:\",i)\n"
   ]
  },
  {
   "cell_type": "code",
   "execution_count": 30,
   "id": "8b7e167c",
   "metadata": {},
   "outputs": [
    {
     "name": "stdout",
     "output_type": "stream",
     "text": [
      "the element that appear at once  4\n"
     ]
    }
   ],
   "source": [
    "# Using XOR\n",
    "\n",
    "arr=[1,2,3,3,1,2,4]\n",
    "xor=0\n",
    "for i in arr:\n",
    "    xor=xor^i\n",
    "print(\"the element that appear at once \",xor)"
   ]
  },
  {
   "cell_type": "markdown",
   "id": "18902677",
   "metadata": {},
   "source": [
    "### subarray\n",
    "\n",
    "-> must follow sequence \n",
    "\n",
    "-> no.of subarray are n(n+1)/2\n",
    "\n",
    "### subsequence\n",
    "\n",
    "-> need not follow sequence\n",
    "\n",
    "-> no.of subsequence 2^n"
   ]
  },
  {
   "cell_type": "code",
   "execution_count": 33,
   "id": "29e09f6d",
   "metadata": {},
   "outputs": [
    {
     "name": "stdout",
     "output_type": "stream",
     "text": [
      "[1]\n",
      "[1, 2]\n",
      "[1, 2, 3]\n",
      "[1, 2, 3, 4]\n",
      "[1, 2, 3, 4, 5]\n",
      "[2]\n",
      "[2, 3]\n",
      "[2, 3, 4]\n",
      "[2, 3, 4, 5]\n",
      "[3]\n",
      "[3, 4]\n",
      "[3, 4, 5]\n",
      "[4]\n",
      "[4, 5]\n",
      "[5]\n"
     ]
    }
   ],
   "source": [
    "# Subarray\n",
    "\n",
    "arr=[1,2,3,4,5]\n",
    "for i in range(len(arr)+1):\n",
    "    for j in range(i+1,len(arr)+1):\n",
    "        print(arr[i:j])"
   ]
  },
  {
   "cell_type": "markdown",
   "id": "8c74c857",
   "metadata": {},
   "source": [
    "###  Length of maximum subarray with k sum"
   ]
  },
  {
   "cell_type": "code",
   "execution_count": 35,
   "id": "f293033b",
   "metadata": {},
   "outputs": [
    {
     "name": "stdout",
     "output_type": "stream",
     "text": [
      "2\n"
     ]
    }
   ],
   "source": [
    "arr=[1,2,3,6,12,24]\n",
    "k=18\n",
    "maxcount=0\n",
    "\n",
    "for i in range(len(arr)):\n",
    "    sum=0\n",
    "    count=0\n",
    "    for j in range(i,len(arr)-1):\n",
    "        sum=sum+arr[j]\n",
    "        \n",
    "        count+=1\n",
    "        if sum==k:\n",
    "            maxcount=max(maxcount,count)\n",
    "print(maxcount)\n",
    "\n"
   ]
  },
  {
   "cell_type": "code",
   "execution_count": 37,
   "id": "8cf9759f",
   "metadata": {},
   "outputs": [
    {
     "name": "stdout",
     "output_type": "stream",
     "text": [
      "3\n"
     ]
    }
   ],
   "source": [
    "arr=[3,3,3,6,12]\n",
    "i=j=0\n",
    "sum=0\n",
    "k=9\n",
    "\n",
    "for j in range(len(arr)):\n",
    "    sum=sum+arr[j]\n",
    "    if sum==k:\n",
    "        maxel=j-i+1\n",
    "    elif sum<k:\n",
    "        j+=1\n",
    "    elif sum>k:\n",
    "        sum=sum-arr[i]\n",
    "        i=i+1\n",
    "    \n",
    "print(maxel) "
   ]
  },
  {
   "cell_type": "code",
   "execution_count": null,
   "id": "7bdbf96e",
   "metadata": {},
   "outputs": [],
   "source": []
  }
 ],
 "metadata": {
  "kernelspec": {
   "display_name": "Python 3 (ipykernel)",
   "language": "python",
   "name": "python3"
  },
  "language_info": {
   "codemirror_mode": {
    "name": "ipython",
    "version": 3
   },
   "file_extension": ".py",
   "mimetype": "text/x-python",
   "name": "python",
   "nbconvert_exporter": "python",
   "pygments_lexer": "ipython3",
   "version": "3.11.4"
  }
 },
 "nbformat": 4,
 "nbformat_minor": 5
}
