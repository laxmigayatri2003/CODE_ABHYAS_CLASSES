{
 "cells": [
  {
   "cell_type": "markdown",
   "id": "52c72351",
   "metadata": {},
   "source": [
    "### Hashing\n",
    "\n",
    "- Hashing is implemented by using dictionaries in python and in java,c++ languages hashmaps are used\n",
    "- Hashing will help to efficient storage of data and retrival\n",
    "- Hashing can be used to find duplicate values"
   ]
  },
  {
   "cell_type": "code",
   "execution_count": 2,
   "id": "1c8b7d91",
   "metadata": {},
   "outputs": [
    {
     "name": "stdout",
     "output_type": "stream",
     "text": [
      "{1: 1, 2: 1, 3: 4, 4: 1, 5: 1}\n"
     ]
    }
   ],
   "source": [
    "#counting a key \n",
    "arr=[1,2,3,3,3,4,5,3]\n",
    "dic={}\n",
    "for i in arr:\n",
    "    if i not in dic:\n",
    "        dic[i]=1\n",
    "    else:\n",
    "        dic[i]+=1\n",
    "print(dic)"
   ]
  },
  {
   "cell_type": "code",
   "execution_count": 9,
   "id": "061443bc",
   "metadata": {},
   "outputs": [
    {
     "name": "stdout",
     "output_type": "stream",
     "text": [
      "The 3 occured 4 times\n"
     ]
    }
   ],
   "source": [
    "#Maximum occurance of a key\n",
    "maxcount=arr[0]\n",
    "for i in dic:\n",
    "    if(dic[i]>maxcount):\n",
    "        maxcount=dic[i]\n",
    "        maxi=i\n",
    "print(f\"The {maxi} occured {maxcount} times\")"
   ]
  },
  {
   "cell_type": "markdown",
   "id": "fa98418f",
   "metadata": {},
   "source": []
  }
 ],
 "metadata": {
  "kernelspec": {
   "display_name": "Python 3 (ipykernel)",
   "language": "python",
   "name": "python3"
  },
  "language_info": {
   "codemirror_mode": {
    "name": "ipython",
    "version": 3
   },
   "file_extension": ".py",
   "mimetype": "text/x-python",
   "name": "python",
   "nbconvert_exporter": "python",
   "pygments_lexer": "ipython3",
   "version": "3.11.4"
  }
 },
 "nbformat": 4,
 "nbformat_minor": 5
}
