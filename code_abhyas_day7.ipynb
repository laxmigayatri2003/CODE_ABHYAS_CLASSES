{
 "cells": [
  {
   "cell_type": "code",
   "execution_count": 1,
   "id": "b0913779",
   "metadata": {},
   "outputs": [
    {
     "name": "stdout",
     "output_type": "stream",
     "text": [
      "6\n"
     ]
    }
   ],
   "source": [
    "#longest consecutive sequence in an array\n",
    "arr=[1,2,3,4,99,67,45,46,47,48,49,50]\n",
    "count=1\n",
    "maxcount=0\n",
    "for i in range(len(arr)-1):\n",
    "    if(arr[i+1]==arr[i]+1):\n",
    "        count+=1\n",
    "    else:\n",
    "        count=1\n",
    "    maxcount=max(count,maxcount)\n",
    "print(maxcount)\n",
    "    "
   ]
  },
  {
   "cell_type": "code",
   "execution_count": 2,
   "id": "91521db7",
   "metadata": {},
   "outputs": [
    {
     "name": "stdout",
     "output_type": "stream",
     "text": [
      "1 2 3 4 \n",
      "5 6 7 8 \n",
      "11 12 13 14 \n"
     ]
    }
   ],
   "source": [
    "# Accessing row elements in a matrix\n",
    "arr=[[1,2,3,4],[5,6,7,8],[11,12,13,14]]\n",
    "for i in range(len(arr)):\n",
    "    for j in range(4):\n",
    "        print(arr[i][j],end=\" \")\n",
    "    print(\"\")"
   ]
  },
  {
   "cell_type": "code",
   "execution_count": 8,
   "id": "b154518e",
   "metadata": {},
   "outputs": [
    {
     "name": "stdout",
     "output_type": "stream",
     "text": [
      "6\n",
      "5\n"
     ]
    }
   ],
   "source": [
    "#the subarray size and count the no of sub arrays with given sum\n",
    "arr=[1,2,3,6,12,1,1,1,3,24]\n",
    "k=24\n",
    "maxcount=0\n",
    "subcount=0\n",
    "for i in range(len(arr)):\n",
    "    if(arr[i])==k:\n",
    "        subcount+=1\n",
    "    sum=0\n",
    "    count=0\n",
    "    for j in range(i,len(arr)-1):\n",
    "        sum+=arr[j]\n",
    "        count+=1\n",
    "        if(sum==k):\n",
    "            subcount+=1\n",
    "            maxcount=max(count,maxcount)\n",
    "print(maxcount)\n",
    "print(subcount)"
   ]
  },
  {
   "cell_type": "code",
   "execution_count": 17,
   "id": "12b2d7bf",
   "metadata": {},
   "outputs": [
    {
     "name": "stdout",
     "output_type": "stream",
     "text": [
      "1\n"
     ]
    }
   ],
   "source": [
    "#checking if arr ele is equal to element in an array or sum of consecutive ele\n",
    "\n",
    "arr=[1,2,3,6,12]\n",
    "count=0\n",
    "i=0\n",
    "sum2=6\n",
    "j=len(arr)-1\n",
    "while (i<j):\n",
    "    if(arr[i]==sum2 or arr[j]==sum2):\n",
    "        count+=1\n",
    "    sum1=arr[i]+arr[j]\n",
    "    if sum1==sum2:\n",
    "        count+=1\n",
    "    elif sum1<sum2:\n",
    "        i+=1\n",
    "    else:\n",
    "        j-=1\n",
    "print(count)   "
   ]
  },
  {
   "cell_type": "code",
   "execution_count": 21,
   "id": "6e8513db",
   "metadata": {},
   "outputs": [
    {
     "name": "stdout",
     "output_type": "stream",
     "text": [
      "0\n"
     ]
    }
   ],
   "source": [
    "arr=[1,2,3,6,12]\n",
    "count=0\n",
    "i=0\n",
    "sum2=12\n",
    "j=len(arr)-1\n",
    "while (i<j):\n",
    "    sum1=arr[i]+arr[j]\n",
    "    if(sum1==sum2):\n",
    "        count+=1\n",
    "    elif sum1<sum2:\n",
    "        i+=1\n",
    "    else:\n",
    "        j-=1\n",
    "print(count)   "
   ]
  },
  {
   "cell_type": "code",
   "execution_count": null,
   "id": "53d3fcd5",
   "metadata": {},
   "outputs": [],
   "source": []
  }
 ],
 "metadata": {
  "kernelspec": {
   "display_name": "Python 3 (ipykernel)",
   "language": "python",
   "name": "python3"
  },
  "language_info": {
   "codemirror_mode": {
    "name": "ipython",
    "version": 3
   },
   "file_extension": ".py",
   "mimetype": "text/x-python",
   "name": "python",
   "nbconvert_exporter": "python",
   "pygments_lexer": "ipython3",
   "version": "3.11.4"
  }
 },
 "nbformat": 4,
 "nbformat_minor": 5
}
